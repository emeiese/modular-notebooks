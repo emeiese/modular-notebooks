{
 "cells": [
  {
   "cell_type": "markdown",
   "id": "dce5b99e-7c00-4a7e-a587-5f56cb6f0b31",
   "metadata": {
    "tags": []
   },
   "source": [
    "# Sección Inicial"
   ]
  },
  {
   "cell_type": "markdown",
   "id": "5e0b5fed-2fa9-4a47-bc00-521b55c389a6",
   "metadata": {},
   "source": [
    "Aquí van algunas celdas de markdown para explicar algo"
   ]
  },
  {
   "cell_type": "code",
   "execution_count": null,
   "id": "5c6b3727-08ad-4263-80a7-fb11d1ea2402",
   "metadata": {},
   "outputs": [],
   "source": [
    "# Estas son algunas celdas de código iniciales\n",
    "# bla\n",
    "# bla"
   ]
  },
  {
   "cell_type": "markdown",
   "id": "70a303bc-b012-47e3-8823-d5586c7bcc0c",
   "metadata": {},
   "source": [
    "**[start-modular-section]**"
   ]
  },
  {
   "cell_type": "markdown",
   "id": "4100047c-be5b-4309-93a3-d4dbe540082d",
   "metadata": {},
   "source": [
    "# modular-word"
   ]
  },
  {
   "cell_type": "markdown",
   "id": "c8de5ee2-8c30-4578-ad34-8ef96eb0f0fc",
   "metadata": {},
   "source": [
    "Esta es una sección modular. Lo que viene en las próximas secciones se debería repetir en los notebooks creados a partir del template"
   ]
  },
  {
   "cell_type": "markdown",
   "id": "1a685a31-b07d-450b-8f5a-2e7ac30306dc",
   "metadata": {},
   "source": [
    "## Primera Parte"
   ]
  },
  {
   "cell_type": "code",
   "execution_count": null,
   "id": "285f578d-62c5-40da-9fa2-3b0672e3c968",
   "metadata": {},
   "outputs": [],
   "source": [
    "# modular-word\n",
    "a = 10\n",
    "b = 10\n",
    "print(a - b)\n",
    "print(\"modular-word\")"
   ]
  },
  {
   "cell_type": "markdown",
   "id": "77902c23-f562-42dc-86ca-fe6091ef75e9",
   "metadata": {},
   "source": [
    "## Segunda Parte"
   ]
  },
  {
   "cell_type": "code",
   "execution_count": null,
   "id": "5ca94b6a-0650-4142-853d-58303a8a22e3",
   "metadata": {},
   "outputs": [],
   "source": [
    "# modular-word\n",
    "print(\"modular-word\")\n",
    "print(\"modular-word\")"
   ]
  },
  {
   "cell_type": "markdown",
   "id": "1b8fae6f-5d09-47ae-b904-828eb9e67886",
   "metadata": {},
   "source": [
    "**[end-modular-section]**"
   ]
  },
  {
   "cell_type": "markdown",
   "id": "8db032c9-64d5-41b9-820f-caa6ddce2322",
   "metadata": {
    "tags": []
   },
   "source": [
    "# Sección Final"
   ]
  },
  {
   "cell_type": "markdown",
   "id": "8069bca3-3e60-44db-b271-6942593b1721",
   "metadata": {},
   "source": [
    "Esta sección no es modular, no debería repetirse, pero debería incluirse."
   ]
  },
  {
   "cell_type": "code",
   "execution_count": null,
   "id": "2df61658-c259-4e1c-8564-6a29e8abe20f",
   "metadata": {},
   "outputs": [],
   "source": [
    "# Estas son algunas celdas de código finales\n",
    "# Bla \n",
    "# Bla"
   ]
  }
 ],
 "metadata": {
  "kernelspec": {
   "display_name": "Python 3 (ipykernel)",
   "language": "python",
   "name": "python3"
  },
  "language_info": {
   "codemirror_mode": {
    "name": "ipython",
    "version": 3
   },
   "file_extension": ".py",
   "mimetype": "text/x-python",
   "name": "python",
   "nbconvert_exporter": "python",
   "pygments_lexer": "ipython3",
   "version": "3.10.9"
  }
 },
 "nbformat": 4,
 "nbformat_minor": 5
}
