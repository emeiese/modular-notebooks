{
 "cells": [
  {
   "cell_type": "code",
   "execution_count": 1,
   "id": "b3f62d91-4c29-44ee-a5a4-e9f9e8f21bd6",
   "metadata": {},
   "outputs": [],
   "source": [
    "import json\n",
    "import os\n",
    "from notebook_builder import Notebook, ModularTemplate"
   ]
  },
  {
   "cell_type": "code",
   "execution_count": 2,
   "id": "8c0474b7-b4c9-4d47-ab0a-3ab02c39290f",
   "metadata": {},
   "outputs": [
    {
     "name": "stdout",
     "output_type": "stream",
     "text": [
      "Loading existent notebook...\n"
     ]
    }
   ],
   "source": [
    "# Cargamos el Template\n",
    "template = ModularTemplate('Template.ipynb')"
   ]
  },
  {
   "cell_type": "code",
   "execution_count": 3,
   "id": "34dca790-0859-4bec-a5cc-05126636ba81",
   "metadata": {},
   "outputs": [],
   "source": [
    "# Creamos el nuevo notebook\n",
    "new_notebook = template.build_modular_notebook('New-Notebook.ipynb', modular_titles=['componente1', 'componente2'], modular_key_word='modular-word')"
   ]
  },
  {
   "cell_type": "code",
   "execution_count": 4,
   "id": "5a9a6b23-9bfa-472f-9c0f-6fab84df1116",
   "metadata": {},
   "outputs": [],
   "source": [
    "# Lo guardamos:\n",
    "new_notebook.save()"
   ]
  },
  {
   "cell_type": "code",
   "execution_count": 7,
   "id": "12c48e0f-a73b-4883-8ca2-a3c4e505c3af",
   "metadata": {},
   "outputs": [
    {
     "name": "stdout",
     "output_type": "stream",
     "text": [
      "Loading existent notebook...\n"
     ]
    }
   ],
   "source": [
    "# Podemos incluso agregarle un notebook no modular hacia el final:\n",
    "parte2 = Notebook('Template2.ipynb', load=True)\n",
    "new_notebook = new_notebook.append(parte2, new_path='New-Notebook-Con-Parte2.ipynb')\n",
    "new_notebook.save()"
   ]
  }
 ],
 "metadata": {
  "kernelspec": {
   "display_name": "Python 3 (ipykernel)",
   "language": "python",
   "name": "python3"
  },
  "language_info": {
   "codemirror_mode": {
    "name": "ipython",
    "version": 3
   },
   "file_extension": ".py",
   "mimetype": "text/x-python",
   "name": "python",
   "nbconvert_exporter": "python",
   "pygments_lexer": "ipython3",
   "version": "3.10.9"
  }
 },
 "nbformat": 4,
 "nbformat_minor": 5
}
