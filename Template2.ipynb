{
 "cells": [
  {
   "cell_type": "markdown",
   "id": "dce5b99e-7c00-4a7e-a587-5f56cb6f0b31",
   "metadata": {},
   "source": [
    "# Esta es una nueva sección que me gustaría agregarle hacia el final"
   ]
  },
  {
   "cell_type": "markdown",
   "id": "5e0b5fed-2fa9-4a47-bc00-521b55c389a6",
   "metadata": {},
   "source": [
    "Aquí van algunas celdas de markdown para explicar algo"
   ]
  },
  {
   "cell_type": "code",
   "execution_count": null,
   "id": "5c6b3727-08ad-4263-80a7-fb11d1ea2402",
   "metadata": {},
   "outputs": [],
   "source": [
    "# Estas son algunas celdas de código iniciales\n",
    "a = 5\n",
    "b = 5\n",
    "print(a + b)"
   ]
  },
  {
   "cell_type": "code",
   "execution_count": null,
   "id": "285f578d-62c5-40da-9fa2-3b0672e3c968",
   "metadata": {},
   "outputs": [],
   "source": [
    "print(\"HOLAAAAAAAAAAAAAA\")"
   ]
  }
 ],
 "metadata": {
  "kernelspec": {
   "display_name": "Python 3 (ipykernel)",
   "language": "python",
   "name": "python3"
  },
  "language_info": {
   "codemirror_mode": {
    "name": "ipython",
    "version": 3
   },
   "file_extension": ".py",
   "mimetype": "text/x-python",
   "name": "python",
   "nbconvert_exporter": "python",
   "pygments_lexer": "ipython3",
   "version": "3.10.9"
  }
 },
 "nbformat": 4,
 "nbformat_minor": 5
}
